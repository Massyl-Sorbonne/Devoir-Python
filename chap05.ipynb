{
 "cells": [
  {
   "cell_type": "markdown",
   "metadata": {},
   "source": [
    "# Programmation Python  pour les mathématiques"
   ]
  },
  {
   "cell_type": "markdown",
   "metadata": {},
   "source": [
    "**Julien Guillod**, [Sorbonne Université](http://www.sorbonne-universite.fr/),\n",
    "Licence <a href=\"https://creativecommons.org/licenses/by-nc-nd/4.0/\">CC BY-NC-ND</a>\n",
    "\n",
    "L'entier des chapitres est disponible au format\n",
    "[HTML](https://python.guillod.org//) et [PDF](https://python.guillod.org//python.pdf).\n",
    "Ce notebook peut également être exécuté sur [GESIS](https://notebooks.gesis.org/binder/v2/gh/guillod/python/master?filepath=chap05.ipynb)."
   ]
  },
  {
   "cell_type": "markdown",
   "metadata": {},
   "source": [
    "# 5 Intégration"
   ]
  },
  {
   "cell_type": "markdown",
   "metadata": {},
   "source": [
    "<div id=\"ch:integration\"></div>\n",
    "\n",
    "Le but est d'obtenir une approximation d'une intégrale définie du type"
   ]
  },
  {
   "cell_type": "markdown",
   "metadata": {},
   "source": [
    "$$\n",
    "J = \\int_a^b f(x) \\mathrm{d} x\n",
    "$$"
   ]
  },
  {
   "cell_type": "markdown",
   "metadata": {},
   "source": [
    "pour une certaine fonction $f:[a,b] \\to \\mathbb{R}$ trop compliquée pour *a priori* déterminer la valeur de $J$ à la main.\n",
    "Des méthodes d'approximations déterministes et probabilistes seront introduites pour obtenir une approximation de $J$.\n",
    "\n",
    "**Concepts abordés:**\n",
    "\n",
    "* méthodes classiques (rectangles, trapèzes et Simpson)\n",
    "\n",
    "* méthode de Monte-Carlo\n",
    "\n",
    "* vitesse convergence\n",
    "\n",
    "* statistiques\n",
    "\n"
   ]
  },
  {
   "cell_type": "markdown",
   "metadata": {},
   "source": [
    "# Exercice 5.1: Méthode des rectangles"
   ]
  },
  {
   "cell_type": "markdown",
   "metadata": {},
   "source": [
    "<div id=\"exer:integration-rectangles\"></div>\n",
    "\n",
    "La méthode des rectangles est basée sur la définition de l'intégrale au sens de Riemann. La première étape est de découper l'intervalle $[a,b]$ en $N$ intervalles $[x_n,x_{n+1}]$ de même taille $\\delta=\\frac{b-a}{N}$, *i.e.* $x_n = a+n\\delta$ pour $n\\in\\{0,1,\\dots,N-1\\}$ La seconde étape consiste à supposer que la fonction $f$ est constante sur chaque intervalle $[x_n,x_{n+1}]$, donc à faire l'approximation"
   ]
  },
  {
   "cell_type": "markdown",
   "metadata": {},
   "source": [
    "$$\n",
    "J_n = \\int_{x_n}^{x_{n+1}} f(x) \\mathrm{d} x \\approx \\delta f(\\tilde{x}_n)\n",
    "$$"
   ]
  },
  {
   "cell_type": "markdown",
   "metadata": {},
   "source": [
    "pour $\\tilde{x}_n$ une certaine valeur à choisir dans l'intervalle $[x_n,x_{n+1}]$. Le choix de $\\tilde{x}_n$ peut par exemple être fait par $\\tilde{x}_n = x_n + \\alpha\\delta$ avec $\\alpha\\in[0,1]$. Finalement l'approximation de $J$ est donnée par la somme des approximations de $J_n$,"
   ]
  },
  {
   "cell_type": "markdown",
   "metadata": {},
   "source": [
    "$$\n",
    "\\tilde{J} = \\sum_{n=0}^{N-1} \\delta f(\\tilde{x}_n)\\,.\n",
    "$$"
   ]
  },
  {
   "cell_type": "markdown",
   "metadata": {},
   "source": [
    "En supposant que $f\\in C^1([a,b])$, alors il est possible de montrer que la méthode des rectangles converge et que sa vitesse de convergence est d'ordre un. Une méthode numérique est dite d'ordre $k$ si l'erreur entre l'approximation numérique et le résultat exacte est de l'ordre de $\\frac{1}{N^k}$.\n",
    "\n",
    "**Indication:**\n",
    "Pour chaque valeur de $n$, et $x\\in[x_{n},x_{n+1}]$, par le théorème\n",
    "des accroissements finis, il existe $c_{n}$ tel que:"
   ]
  },
  {
   "cell_type": "markdown",
   "metadata": {},
   "source": [
    "$$\n",
    "f(x)-f(\\tilde{x}_{n})=(x-\\tilde{x}_{n})f^{\\prime}(c_{n})\\,.\n",
    "$$"
   ]
  },
  {
   "cell_type": "markdown",
   "metadata": {},
   "source": [
    "Comme $f^{\\prime}$ est continue sur $[a,b]$, alors"
   ]
  },
  {
   "cell_type": "markdown",
   "metadata": {},
   "source": [
    "$$\n",
    "\\sup_{x\\in[a,b]}|f^{\\prime}(x)|\\leq M\\,,\n",
    "$$"
   ]
  },
  {
   "cell_type": "markdown",
   "metadata": {},
   "source": [
    "et donc"
   ]
  },
  {
   "cell_type": "markdown",
   "metadata": {},
   "source": [
    "$$\n",
    "|f(x)-f(\\tilde{x}_{n})|\\leq M|x-\\tilde{x}_{n}|\\leq M\\delta\\leq\\frac{M(b-a)}{N}\\,.\n",
    "$$"
   ]
  },
  {
   "cell_type": "markdown",
   "metadata": {},
   "source": [
    "Ainsi"
   ]
  },
  {
   "cell_type": "markdown",
   "metadata": {},
   "source": [
    "$$\n",
    "\\begin{align*}\n",
    "E_{N} & = \\left|J-\\tilde{J}\\right| = \\left|\\sum_{n=0}^{N-1}\\left(\\int_{x_{n}}^{x_{n+1}}f(x)\\,\\mathrm{d} x-\\delta f(\\tilde{x}_{n})\\right)\\right|\\\\ \n",
    " & \\leq\\sum_{n=0}^{N-1}\\left|\\int_{x_{n}}^{x_{n+1}}\\left(f(x)-f(\\tilde{x}_{n})\\right)\\,\\mathrm{d} x\\right|\\leq\\sum_{n=0}^{N-1}\\int_{x_{n}}^{x_{n+1}}|f(x)-f(\\tilde{x}_{n})|\\,\\mathrm{d} x\\\\ \n",
    " & \\leq\\sum_{n=0}^{N-1}\\int_{x_{n}}^{x_{n+1}}\\frac{M(b-a)}{N}\\,\\mathrm{d} x\\leq\\frac{M(b-a)^{2}}{N}\\,.\n",
    "\\end{align*}\n",
    "$$"
   ]
  },
  {
   "cell_type": "markdown",
   "metadata": {},
   "source": [
    "Par conséquent si $f\\in C^1([a,b])$, alors la méthode des rectangles est d'ordre un.\n",
    "\n",
    "**a)**\n",
    "Choisir une fonction continue $f:[a,b]\\to\\mathbb{R}$ et définir la fonction Python `f(x)` correspondante. Pour tester le code, il est judicieux de choisir une fonction $f$ dont l'intégrale peut être facilement calculable à la main.\n",
    "\n",
    "**Indication:**\n",
    "La liste des fonctions mathématiques de base disponibles en Python dans le module `math` est disponible dans la documentation [ici](https://docs.python.org/fr/3/library/math.html). Par exemple pour calculer $e^\\pi$:"
   ]
  },
  {
   "cell_type": "code",
   "execution_count": 2,
   "metadata": {
    "collapsed": false,
    "jupyter": {
     "outputs_hidden": false
    }
   },
   "outputs": [
    {
     "data": {
      "text/plain": [
       "23.140692632779267"
      ]
     },
     "execution_count": 2,
     "metadata": {},
     "output_type": "execute_result"
    }
   ],
   "source": [
    "import math\n",
    "import numpy as np\n",
    "math.exp(math.pi)"
   ]
  },
  {
   "cell_type": "code",
   "execution_count": 3,
   "metadata": {},
   "outputs": [],
   "source": [
    "import matplotlib.pylab as plt\n",
    "import numpy as np"
   ]
  },
  {
   "cell_type": "code",
   "execution_count": 4,
   "metadata": {},
   "outputs": [
    {
     "data": {
      "text/plain": [
       "[<matplotlib.lines.Line2D at 0x1d2f8e9e730>]"
      ]
     },
     "execution_count": 4,
     "metadata": {},
     "output_type": "execute_result"
    },
    {
     "data": {
      "image/png": "[encoded data removed]",
      "text/plain": [
       "<Figure size 432x288 with 1 Axes>"
      ]
     },
     "metadata": {
      "needs_background": "light"
     },
     "output_type": "display_data"
    }
   ],
   "source": [
    "num = 100\n",
    "x = np.linspace(0, 1, num=num)\n",
    "y = 1-x**2\n",
    "\n",
    "plt.bar(x+1/num/2, height=y, width=1.0/num)\n",
    "plt.plot(x, y, \".-\", c=\"r\")"
   ]
  },
  {
   "cell_type": "code",
   "execution_count": 36,
   "metadata": {},
   "outputs": [],
   "source": [
    "def f(x):   \n",
    "    return np.exp(x)"
   ]
  },
  {
   "cell_type": "code",
   "execution_count": 9,
   "metadata": {},
   "outputs": [
    {
     "data": {
      "text/plain": [
       "7.38905609893065"
      ]
     },
     "execution_count": 9,
     "metadata": {},
     "output_type": "execute_result"
    }
   ],
   "source": [
    "fonction(2)"
   ]
  },
  {
   "cell_type": "code",
   "execution_count": null,
   "metadata": {},
   "outputs": [],
   "source": []
  },
  {
   "cell_type": "markdown",
   "metadata": {},
   "source": [
    "A noter que Numpy définit également des fonctions mathématiques, voir [ici](https://docs.scipy.org/doc/numpy/reference/routines.math.html).\n",
    "\n"
   ]
  },
  {
   "cell_type": "markdown",
   "metadata": {},
   "source": [
    "\n",
    "**b)**\n",
    "Écrire une fonction `rectangles(f,a,b,N)` qui retourne l'approximation de l'intégrale $J$ par la méthode des rectangles par exemple en choisissant $\\tilde{x}_n=x_n$, *i.e.* le bord gauche de l'intervalle $[x_n,x_{n+1}]$.\n",
    "\n",
    "**Indication:**\n",
    "Il n'est pas nécessaire de stoker toutes les valeurs des approximations de $J_n$, mais il est possible d'incrémenter une variable pour chaque approximation de $J_n$.\n",
    "\n"
   ]
  },
  {
   "cell_type": "code",
   "execution_count": 55,
   "metadata": {},
   "outputs": [
    {
     "ename": "NameError",
     "evalue": "name 'b' is not defined",
     "output_type": "error",
     "traceback": [
      "\u001b[1;31m---------------------------------------------------------------------------\u001b[0m",
      "\u001b[1;31mNameError\u001b[0m                                 Traceback (most recent call last)",
      "\u001b[1;32m<ipython-input-55-6a5445b719f6>\u001b[0m in \u001b[0;36m<module>\u001b[1;34m\u001b[0m\n\u001b[1;32m----> 1\u001b[1;33m \u001b[0msigma\u001b[0m \u001b[1;33m=\u001b[0m \u001b[1;33m(\u001b[0m\u001b[0mb\u001b[0m\u001b[1;33m-\u001b[0m\u001b[0ma\u001b[0m\u001b[1;33m)\u001b[0m\u001b[1;33m/\u001b[0m\u001b[0mN\u001b[0m\u001b[1;33m\u001b[0m\u001b[1;33m\u001b[0m\u001b[0m\n\u001b[0m",
      "\u001b[1;31mNameError\u001b[0m: name 'b' is not defined"
     ]
    }
   ],
   "source": []
  },
  {
   "cell_type": "code",
   "execution_count": 64,
   "metadata": {},
   "outputs": [],
   "source": [
    "def rectangles(f,a,b,N):\n",
    "    x = np.linspace(0, 1, num=100)\n",
    "    sigma = (b-a)/N\n",
    "    new_f = np.vectorize(f)\n",
    "    y =sigma * new_f(x)\n",
    "    plt.bar(x+1/num/2, height=y, width=1.0/num)\n",
    "    plt.plot(x, y, \".-\", c=\"r\")\n",
    "    return y\n",
    "    \n",
    "    \n",
    "    "
   ]
  },
  {
   "cell_type": "code",
   "execution_count": 50,
   "metadata": {},
   "outputs": [],
   "source": [
    "def rectangles2(f,a,b,n) :\n",
    "    h=(b-a)/float(n)\n",
    "    z=0\n",
    "    for i in range(n) :\n",
    "        z=z+f(a+i*h)\n",
    "    return h*z\n"
   ]
  },
  {
   "cell_type": "code",
   "execution_count": 57,
   "metadata": {},
   "outputs": [
    {
     "data": {
      "text/plain": [
       "138.91931810766778"
      ]
     },
     "execution_count": 57,
     "metadata": {},
     "output_type": "execute_result"
    }
   ],
   "source": [
    "rectangles2(f,2,5,100)"
   ]
  },
  {
   "cell_type": "code",
   "execution_count": 63,
   "metadata": {},
   "outputs": [
    {
     "data": {
      "text/plain": [
       "array([3.00000000e-02, 3.31886345e-02, 3.67161820e-02, 4.06186648e-02,\n",
       "       4.49359340e-02, 4.97120763e-02, 5.49958643e-02, 6.08412546e-02,\n",
       "       6.73079387e-02, 7.44619525e-02, 8.23763509e-02, 9.11319533e-02,\n",
       "       1.00818170e-01, 1.11533913e-01, 1.23388609e-01, 1.36503315e-01,\n",
       "       1.51011954e-01, 1.67062685e-01, 1.84819413e-01, 2.04463464e-01,\n",
       "       2.26195439e-01, 2.50237259e-01, 2.76834431e-01, 3.06258558e-01,\n",
       "       3.38810111e-01, 3.74821498e-01, 4.14660456e-01, 4.58733811e-01,\n",
       "       5.07491626e-01, 5.61431803e-01, 6.21105163e-01, 6.87121074e-01,\n",
       "       7.60153673e-01, 8.40948747e-01, 9.30331353e-01, 1.02921424e+00,\n",
       "       1.13860717e+00, 1.25962725e+00, 1.39351027e+00, 1.54162344e+00,\n",
       "       1.70547923e+00, 1.88675089e+00, 2.08728952e+00, 2.30914297e+00,\n",
       "       2.55457673e+00, 2.82609711e+00, 3.12647680e+00, 3.45878320e+00,\n",
       "       3.82640971e+00, 4.23311044e+00, 4.68303851e+00, 5.18078845e+00,\n",
       "       5.73144314e+00, 6.34062571e+00, 7.01455697e+00, 7.76011892e+00,\n",
       "       8.58492501e+00, 9.49739794e+00, 1.05068556e+01, 1.16236064e+01,\n",
       "       1.28590541e+01, 1.42258149e+01, 1.57378457e+01, 1.74105869e+01,\n",
       "       1.92611202e+01, 2.13083426e+01, 2.35731598e+01, 2.60786995e+01,\n",
       "       2.88505475e+01, 3.19170092e+01, 3.53093984e+01, 3.90623573e+01,\n",
       "       4.32142100e+01, 4.78073540e+01, 5.28886932e+01, 5.85101169e+01,\n",
       "       6.47290295e+01, 7.16089367e+01, 7.92200942e+01, 8.76402250e+01,\n",
       "       9.69553132e+01, 1.07260482e+02, 1.18660964e+02, 1.31273179e+02,\n",
       "       1.45225918e+02, 1.60661664e+02, 1.77738042e+02, 1.96629430e+02,\n",
       "       2.17528743e+02, 2.40649398e+02, 2.66227497e+02, 2.94524236e+02,\n",
       "       3.25828574e+02, 3.60460181e+02, 3.98772707e+02, 4.41157387e+02,\n",
       "       4.88047042e+02, 5.39920497e+02, 5.97307467e+02, 6.60793974e+02])"
      ]
     },
     "execution_count": 63,
     "metadata": {},
     "output_type": "execute_result"
    },
    {
     "data": {
      "image/png": "[encoded data removed]",
      "text/plain": [
       "<Figure size 432x288 with 1 Axes>"
      ]
     },
     "metadata": {
      "needs_background": "light"
     },
     "output_type": "display_data"
    }
   ],
   "source": [
    "rectangles(f,2,5,100)"
   ]
  },
  {
   "cell_type": "markdown",
   "metadata": {},
   "source": [
    "\n",
    "**c)**\n",
    "Modifier la fonction précédente pour que celle-ci prenne un paramètre optionnel `alpha` déterminant le choix du paramètre $\\alpha\\in[0,1]$.\n",
    "\n"
   ]
  },
  {
   "cell_type": "code",
   "execution_count": null,
   "metadata": {},
   "outputs": [],
   "source": [
    "def rectangle(f,a,b,N,alpha):\n",
    "    "
   ]
  },
  {
   "cell_type": "markdown",
   "metadata": {},
   "source": [
    "\n",
    "\n",
    "**d)**\n",
    "Écrire une fonction `plot_rectangles(f,a,b,N,alpha=0.5)` qui représente graphiquement l'approximation par la méthode des rectangles.\n",
    "\n"
   ]
  },
  {
   "cell_type": "markdown",
   "metadata": {},
   "source": [
    "\n",
    "**e)**\n",
    "Déterminer empiriquement la vitesse de convergence de la méthode des rectangles en fonction de $N$.\n",
    "\n"
   ]
  },
  {
   "cell_type": "markdown",
   "metadata": {},
   "source": [
    "# Exercice 5.2: Méthode des trapèzes"
   ]
  },
  {
   "cell_type": "markdown",
   "metadata": {},
   "source": [
    "<div id=\"exer:integration-trapezes\"></div>\n",
    "\n",
    "La méthode des trapèzes est basée sur une approximation linéaire sur chaque intervalle $[x_n,x_{n+1}]$, plus spécifiquement:"
   ]
  },
  {
   "cell_type": "markdown",
   "metadata": {},
   "source": [
    "$$\n",
    "J_n = \\int_{x_n}^{x_{n+1}} f(x) \\mathrm{d} x \\approx \\delta \\frac{f(x_n) + f(x_{n+1})}{2} \\,.\n",
    "$$"
   ]
  },
  {
   "cell_type": "markdown",
   "metadata": {},
   "source": [
    "**a)**\n",
    "Écrire une fonction python `trapezes(f,a,b,N)` qui retourne l'approximation de l'intégrale $J$ par la méthode des trapèzes. Tester la fonction `trapezes(f,a,b,N)` pour différentes fonctions $f$.\n",
    "\n"
   ]
  },
  {
   "cell_type": "code",
   "execution_count": 47,
   "metadata": {},
   "outputs": [],
   "source": [
    "def trapezes(f,a,b,N):\n",
    "    sigma=(b-a)/N\n",
    "    z=0.5*(f(a)+f(b))\n",
    "    for i in range (1,N):\n",
    "        z= z +f(a+i*sigma) \n",
    "    return sigma*z"
   ]
  },
  {
   "cell_type": "code",
   "execution_count": 78,
   "metadata": {},
   "outputs": [
    {
     "data": {
      "text/plain": [
       "145.71430273974758"
      ]
     },
     "execution_count": 78,
     "metadata": {},
     "output_type": "execute_result"
    }
   ],
   "source": [
    "trapezes(f,1,5,100)"
   ]
  },
  {
   "cell_type": "markdown",
   "metadata": {},
   "source": [
    "\n",
    "**b)**\n",
    "L'implémentation de votre fonction `trapezes(f,a,b,N)` est-elle optimale quant au nombre d'évaluations de $f$ effectuées par rapport au nombre d'évaluations nécessaires ? Une implémentation optimale de la fonction `trapezes(f,a,b,N)` devrait effectuer $N+1$ évaluations de $f$.\n",
    "\n"
   ]
  },
  {
   "cell_type": "markdown",
   "metadata": {},
   "source": [
    "\n",
    "**c)**\n",
    "Déterminer empiriquement la vitesse de convergence de la méthode des trapèzes en fonction de $N$.\n",
    "\n"
   ]
  },
  {
   "cell_type": "markdown",
   "metadata": {},
   "source": [
    "\n",
    "**d)**\n",
    "<span style=\"color:red\">!</span> Déterminer analytiquement la convergence de la méthode des trapèzes. Quelles sont les hypothèses nécessaires sur $f$ ?\n",
    "\n"
   ]
  },
  {
   "cell_type": "markdown",
   "metadata": {},
   "source": [
    "# Exercice 5.3: Méthode de Monte-Carlo"
   ]
  },
  {
   "cell_type": "markdown",
   "metadata": {},
   "source": [
    "<div id=\"exer:integration-montecarlo\"></div>\n",
    "\n",
    "La méthode de Monte-Carlo (du nom des casinos, pas d'une personne) est une approche probabiliste permettant d'approximer la valeur d'une intégrale. L'idée de base est que l'intégrale $J$ peut être vue comme l'espérance d'une variable aléatoire uniforme $X$ sur l'intervalle $[a,b]$:"
   ]
  },
  {
   "cell_type": "markdown",
   "metadata": {},
   "source": [
    "$$\n",
    "J = \\int_a^b f(x) \\, \\mathrm{d} x = (b-a)\\mathbb{E}(f(X)) \\,.\n",
    "$$"
   ]
  },
  {
   "cell_type": "markdown",
   "metadata": {},
   "source": [
    "Par la loi des grands nombres cette espérance peut être approximée par la moyenne empirique:"
   ]
  },
  {
   "cell_type": "markdown",
   "metadata": {},
   "source": [
    "$$\n",
    "\\tilde{J} = \\frac{b-a}{N}\\sum_{i=0}^{N-1} f(x_i) \\,,\n",
    "$$"
   ]
  },
  {
   "cell_type": "markdown",
   "metadata": {},
   "source": [
    "où les $x_i$ sont tirés aléatoirement dans l'intervalle $[a,b]$ avec une loi de probabilité uniforme.\n",
    "\n",
    "Il est possible de montrer que $\\tilde{J}$ converge vers $J$ comme $N^{-1/2}$ et cela indépendamment de la dimension et de la régularité de $f$.\n",
    "\n",
    "**Indication:**\n",
    "Selon le théorème central limite, si $Y_i$ est une suite de variables aléatoires indépendantes d'espérance $\\mu$ et de variance $\\sigma^2$, alors la variable aléatoire:"
   ]
  },
  {
   "cell_type": "markdown",
   "metadata": {},
   "source": [
    "$$\n",
    "S_N = \\frac{1}{N}\\sum_{i=0}^{N-1} Y_i \\,,\n",
    "$$"
   ]
  },
  {
   "cell_type": "markdown",
   "metadata": {},
   "source": [
    "a une espérance $\\mu$ et une variance:"
   ]
  },
  {
   "cell_type": "markdown",
   "metadata": {},
   "source": [
    "$$\n",
    "\\mathrm{Var}(S_N) = \\frac{\\sigma^2}{N} \\,.\n",
    "$$"
   ]
  },
  {
   "cell_type": "markdown",
   "metadata": {},
   "source": [
    "En prenant $Y_i=f(X_i)$ avec $X_i$ une suite de variables aléatoires indépendantes uniformément distribuées sur $[a,b]$, alors l'espérance de $Y_i$ est la moyenne de $f$ et donc l'espérance de $S_N$ est donnée par:"
   ]
  },
  {
   "cell_type": "markdown",
   "metadata": {},
   "source": [
    "$$\n",
    "\\mathbb{E}(S_N) = \\frac{1}{b-a} \\int_a^b f(x) \\, \\mathrm{d} x \\,.\n",
    "$$"
   ]
  },
  {
   "cell_type": "markdown",
   "metadata": {},
   "source": [
    "La variance de $Y_i$ est également celle de $f$, $\\sigma^2 = \\mathrm{Var}(f(X))$ et donc la variance de $S_N$ est:"
   ]
  },
  {
   "cell_type": "markdown",
   "metadata": {},
   "source": [
    "$$\n",
    "\\mathrm{Var}(S_N) = \\frac{\\mathrm{Var}(f(X))}{N} \\,.\n",
    "$$"
   ]
  },
  {
   "cell_type": "markdown",
   "metadata": {},
   "source": [
    "Par conséquent, cela montre que $\\tilde{J}$ converge vers $J$ comme $N^{-1/2}$ vu que la variance est proportionnelle à $N^{-1}$.\n",
    "\n",
    "A remarquer que pour établir ce résultat, aucune condition de régularité sur $f$ n'est nécessaire, de l'intégrabilité suffit.\n",
    "\n",
    "En pratique la variance de $f$ peut être estimée par la variance empirique.\n",
    "\n",
    "**a)**\n",
    "Écrire une fonction `montecarlo(f,a,b,N)` qui détermine une approximation $\\tilde{J}$ de $J$ par la méthode de Monte-Carlo.\n",
    "\n",
    "**Indication:**\n",
    "Pour générer un vecteur de nombres aléatoires, le sous-module `numpy.random` peut être utile, voir la documentation [ici](https://docs.scipy.org/doc/numpy/reference/random/index.html).\n",
    "\n"
   ]
  },
  {
   "cell_type": "code",
   "execution_count": 88,
   "metadata": {},
   "outputs": [],
   "source": [
    "def montecarlo(f,a,b,N):\n",
    "    sigma = (b-a)/N\n",
    "  #calcul de la somme    \n",
    "    somme= 0\n",
    "    for i in range (0,N-1):\n",
    "        x = np.random.uniform(low=a,high=b)\n",
    "        y=f(x)\n",
    "        somme = somme +y\n",
    "    return (sigma*somme)"
   ]
  },
  {
   "cell_type": "code",
   "execution_count": 89,
   "metadata": {},
   "outputs": [
    {
     "data": {
      "text/plain": [
       "134.62584376260548"
      ]
     },
     "execution_count": 89,
     "metadata": {},
     "output_type": "execute_result"
    }
   ],
   "source": []
  },
  {
   "cell_type": "markdown",
   "metadata": {},
   "source": [
    "\n",
    "**b)**\n",
    "Modifier la fonction précédente, pour qu'elle retourne en plus de la moyenne $\\tilde{J}$ également la variance empirique"
   ]
  },
  {
   "cell_type": "code",
   "execution_count": 96,
   "metadata": {},
   "outputs": [],
   "source": [
    "def montecarlo2(f,a,b,N):\n",
    "        sigma = (b-a)/N\n",
    "        sig2= (sigma)*(b-a)\n",
    "  #calcul de la somme    \n",
    "        somme= 0\n",
    "        sumvar=0\n",
    "        for i in range (0,N):\n",
    "    #Approximation\n",
    "            x = np.random.uniform(low=a,high=b)\n",
    "            y=f(x)\n",
    "            somme = somme +y\n",
    "        \n",
    "    #Variance empirique \n",
    "        for i in range (0,N):\n",
    "            y=f(x)\n",
    "            calcule = (y - sigma*somme/(b-a))**2\n",
    "            sumvar += calcule\n",
    "        return (sigma*somme),(sig2*sumvar)\n",
    "    "
   ]
  },
  {
   "cell_type": "markdown",
   "metadata": {},
   "source": [
    "$$\n",
    "\\tilde{V} = \\frac{(b-a)^2}{N}\\sum_{i=0}^{N-1} \\left(f(x_i)-\\frac{\\tilde{J}}{b-a}\\right)^2 \\,.\n",
    "$$"
   ]
  },
  {
   "cell_type": "markdown",
   "metadata": {},
   "source": [
    "\n",
    "**c)**\n",
    "Étudier empiriquement la convergence de la méthode de Monte-Carlo en fonction de $N$ en faisant pour chaque valeur de $N$ une statistique sur $k$ exécutions. Plus précisément cela consiste à faire $k$ évaluations de $\\tilde{J}$ par la méthode de Monte-Carlo et de calculer la moyenne et la variance des $k$ résultats obtenus.\n",
    "\n"
   ]
  },
  {
   "cell_type": "code",
   "execution_count": null,
   "metadata": {},
   "outputs": [],
   "source": [
    "def etude "
   ]
  },
  {
   "cell_type": "markdown",
   "metadata": {},
   "source": [
    "# Exercice 5.4: <span style=\"color:red\">!</span> Méthode de Simpson"
   ]
  },
  {
   "cell_type": "markdown",
   "metadata": {},
   "source": [
    "<div id=\"exer:integration-simpson\"></div>\n",
    "\n",
    "La méthode de Simpson consiste à approximer la fonction $f$ sur chaque intervalle $[x_n,x_{n+1}]$ par un polynôme de degré deux. Le choix le plus naturel est le polynôme $p_n$ de degré deux passant par les points $(x_n,f(x_n))$, $(\\frac{x_n+x_{n+1}}{2},f(\\frac{x_n+x_{n+1}}{2}))$, et $(x_{n+1},f(x_{n+1}))$.\n",
    "\n",
    "**a)**\n",
    "Déterminer la forme explicite du polynôme $p_n$.\n",
    "\n",
    "**Indication:**\n",
    "Le polynôme $L(x) = \\frac{(x-c)(x-b)}{(a-c)(a-b)}$ prend la valeur un en $x=a$ et la valeur zéro en $x=b$ et $x=c$. Faire une combinaison linéaire de trois polynômes de ce type.\n",
    "\n"
   ]
  },
  {
   "cell_type": "markdown",
   "metadata": {},
   "source": [
    "\n",
    "**b)**\n",
    "Calculer l'approximation donnée par $J_n \\approx \\int_{x_n}^{x_{n+1}} p_n(x) \\mathrm{d} x \\,.$\n",
    "\n",
    "**Indication:**\n",
    "Il est possible de calculer cette intégrale à la main ou bien de le faire avec le module Sympy, voir la documentation [ici](http://docs.sympy.org/latest/modules/integrals/integrals.html).\n",
    "\n"
   ]
  },
  {
   "cell_type": "markdown",
   "metadata": {},
   "source": [
    "\n",
    "**c)**\n",
    "Simplifier à la main la somme $\\tilde{J}$ des approximations de $J_n$.\n",
    "\n",
    "**Réponse:**\n",
    "Le résultat est"
   ]
  },
  {
   "cell_type": "markdown",
   "metadata": {},
   "source": [
    "$$\n",
    "\\tilde{J} = \\frac{\\delta}{3}\\left[\\frac{f(b)-f(a)}{2}+\\sum_{n=0}^{N-1}\\left(f(x_{n})+2f\\left(\\frac{x_{n}+x_{n+1}}{2}\\right)\\right)\\right] \\,.\n",
    "$$"
   ]
  },
  {
   "cell_type": "markdown",
   "metadata": {},
   "source": [
    "\n",
    "**d)**\n",
    "Écrire une fonction `simpson(f,a,b,N)` permettant de calculer une approximation de $J$ avec la méthode de Simpson.\n",
    "\n"
   ]
  },
  {
   "cell_type": "markdown",
   "metadata": {},
   "source": [
    "\n",
    "**e)**\n",
    "Comparer la précision des méthodes des rectangles, des trapèzes et de Simpson en fonction de $N$.\n",
    "\n"
   ]
  },
  {
   "cell_type": "markdown",
   "metadata": {},
   "source": [
    "# Exercice 5.5: <span style=\"color:red\">!!</span> Module `scipy.integrate`"
   ]
  },
  {
   "cell_type": "markdown",
   "metadata": {},
   "source": [
    "Les méthodes d'intégrations précédentes et d'autres sont définies dans le module `scipy.integrate`. Ce module permet en particulier de traiter des cas plus compliqués, par exemple calculer numériquement"
   ]
  },
  {
   "cell_type": "markdown",
   "metadata": {},
   "source": [
    "$$\n",
    "E_n(x) = \\int_1^\\infty \\frac{e^{-xt}}{t^n} \\mathrm{d} t\n",
    "$$"
   ]
  },
  {
   "cell_type": "markdown",
   "metadata": {},
   "source": [
    "à l'aide du code suivant:"
   ]
  },
  {
   "cell_type": "code",
   "execution_count": 28,
   "metadata": {
    "collapsed": false,
    "jupyter": {
     "outputs_hidden": false
    }
   },
   "outputs": [],
   "source": [
    "import math, scipy.integrate\n",
    "def integrand(t, n, x):\n",
    "    return math.exp(-x*t)/t**n\n",
    "def E(n, x):\n",
    "    return scipy.integrate.quad(integrand, 1, math.inf, args=(n, x))[0]\n",
    "E(4,2)"
   ]
  },
  {
   "cell_type": "markdown",
   "metadata": {},
   "source": [
    "**a)**\n",
    "Lire la documentation de ce module disponible [ici](https://docs.scipy.org/doc/scipy/reference/tutorial/integrate.html).\n",
    "\n",
    "**b)**\n",
    "A l'aide de ce module, déterminer une approximation de l'intégrale double"
   ]
  },
  {
   "cell_type": "markdown",
   "metadata": {},
   "source": [
    "$$\n",
    "I = \\int_{0}^{\\pi} \\left(\\int_{0}^{y} x \\sin(xy) \\,\\mathrm{d} x \\right) \\mathrm{d} y \\,.\n",
    "$$"
   ]
  }
 ],
 "metadata": {
  "kernelspec": {
   "display_name": "Python 3",
   "language": "python",
   "name": "python3"
  },
  "language_info": {
   "codemirror_mode": {
    "name": "ipython",
    "version": 3
   },
   "file_extension": ".py",
   "mimetype": "text/x-python",
   "name": "python",
   "nbconvert_exporter": "python",
   "pygments_lexer": "ipython3",
   "version": "3.8.5"
  }
 },
 "nbformat": 4,
 "nbformat_minor": 4
}
